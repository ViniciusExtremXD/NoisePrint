{
 "cells": [
  {
   "cell_type": "markdown",
   "id": "3c1b5cdc",
   "metadata": {},
   "source": [
    "# Noiseprint Demo\n",
    "Este notebook apresenta o fluxo do protótipo Noiseprint: da preparação do ambiente à análise qualitativa dos mapas gerados (fallback vs. pesos reais, quando disponíveis)."
   ]
  },
  {
   "cell_type": "code",
   "execution_count": 2,
   "id": "1b119dbb",
   "metadata": {},
   "outputs": [
    {
     "ename": "ModuleNotFoundError",
     "evalue": "No module named 'cv2'",
     "output_type": "error",
     "traceback": [
      "\u001b[31m---------------------------------------------------------------------------\u001b[39m",
      "\u001b[31mModuleNotFoundError\u001b[39m                       Traceback (most recent call last)",
      "\u001b[36mCell\u001b[39m\u001b[36m \u001b[39m\u001b[32mIn[2]\u001b[39m\u001b[32m, line 5\u001b[39m\n\u001b[32m      2\u001b[39m \u001b[38;5;28;01mimport\u001b[39;00m\u001b[38;5;250m \u001b[39m\u001b[34;01mlogging\u001b[39;00m\n\u001b[32m      3\u001b[39m \u001b[38;5;28;01mimport\u001b[39;00m\u001b[38;5;250m \u001b[39m\u001b[34;01msys\u001b[39;00m\n\u001b[32m----> \u001b[39m\u001b[32m5\u001b[39m \u001b[38;5;28;01mimport\u001b[39;00m\u001b[38;5;250m \u001b[39m\u001b[34;01mcv2\u001b[39;00m\n\u001b[32m      6\u001b[39m \u001b[38;5;28;01mimport\u001b[39;00m\u001b[38;5;250m \u001b[39m\u001b[34;01mmatplotlib\u001b[39;00m\u001b[34;01m.\u001b[39;00m\u001b[34;01mpyplot\u001b[39;00m\u001b[38;5;250m \u001b[39m\u001b[38;5;28;01mas\u001b[39;00m\u001b[38;5;250m \u001b[39m\u001b[34;01mplt\u001b[39;00m\n\u001b[32m      7\u001b[39m \u001b[38;5;28;01mimport\u001b[39;00m\u001b[38;5;250m \u001b[39m\u001b[34;01mnumpy\u001b[39;00m\u001b[38;5;250m \u001b[39m\u001b[38;5;28;01mas\u001b[39;00m\u001b[38;5;250m \u001b[39m\u001b[34;01mnp\u001b[39;00m\n",
      "\u001b[31mModuleNotFoundError\u001b[39m: No module named 'cv2'"
     ]
    }
   ],
   "source": [
    "from pathlib import Path\n",
    "import logging\n",
    "import sys\n",
    "\n",
    "import cv2\n",
    "import matplotlib.pyplot as plt\n",
    "import numpy as np\n",
    "import torch\n",
    "\n",
    "ROOT = Path.cwd().resolve().parent\n",
    "SRC_PATH = ROOT / \"src\"\n",
    "if str(SRC_PATH) not in sys.path:\n",
    "    sys.path.insert(0, str(SRC_PATH))\n",
    "\n",
    "DATA_INPUT = ROOT / \"data\" / \"input\"\n",
    "DATA_OUTPUT = ROOT / \"data\" / \"output\"\n",
    "DATA_INPUT.mkdir(parents=True, exist_ok=True)\n",
    "DATA_OUTPUT.mkdir(parents=True, exist_ok=True)\n",
    "\n",
    "logging.basicConfig(level=logging.INFO)\n",
    "device = torch.device(\"cuda\" if torch.cuda.is_available() else \"cpu\")\n",
    "print(f\"Usando dispositivo: {device}\")"
   ]
  },
  {
   "cell_type": "code",
   "execution_count": 3,
   "id": "70983298",
   "metadata": {},
   "outputs": [
    {
     "ename": "ModuleNotFoundError",
     "evalue": "No module named 'noiseprint'",
     "output_type": "error",
     "traceback": [
      "\u001b[31m---------------------------------------------------------------------------\u001b[39m",
      "\u001b[31mModuleNotFoundError\u001b[39m                       Traceback (most recent call last)",
      "\u001b[36mCell\u001b[39m\u001b[36m \u001b[39m\u001b[32mIn[3]\u001b[39m\u001b[32m, line 1\u001b[39m\n\u001b[32m----> \u001b[39m\u001b[32m1\u001b[39m \u001b[38;5;28;01mfrom\u001b[39;00m\u001b[38;5;250m \u001b[39m\u001b[34;01mnoiseprint\u001b[39;00m\u001b[38;5;250m \u001b[39m\u001b[38;5;28;01mimport\u001b[39;00m compute_noiseprint, load_model\n\u001b[32m      2\u001b[39m \u001b[38;5;28;01mfrom\u001b[39;00m\u001b[38;5;250m \u001b[39m\u001b[34;01mnoiseprint\u001b[39;00m\u001b[34;01m.\u001b[39;00m\u001b[34;01mfilters\u001b[39;00m\u001b[38;5;250m \u001b[39m\u001b[38;5;28;01mimport\u001b[39;00m normalize_map\n\u001b[32m      4\u001b[39m image_paths = [\n\u001b[32m      5\u001b[39m     p \u001b[38;5;28;01mfor\u001b[39;00m p \u001b[38;5;129;01min\u001b[39;00m \u001b[38;5;28msorted\u001b[39m(DATA_INPUT.glob(\u001b[33m\"\u001b[39m\u001b[33m*\u001b[39m\u001b[33m\"\u001b[39m))\n\u001b[32m      6\u001b[39m     \u001b[38;5;28;01mif\u001b[39;00m p.suffix.lower() \u001b[38;5;129;01min\u001b[39;00m {\u001b[33m\"\u001b[39m\u001b[33m.jpg\u001b[39m\u001b[33m\"\u001b[39m, \u001b[33m\"\u001b[39m\u001b[33m.jpeg\u001b[39m\u001b[33m\"\u001b[39m, \u001b[33m\"\u001b[39m\u001b[33m.png\u001b[39m\u001b[33m\"\u001b[39m, \u001b[33m\"\u001b[39m\u001b[33m.tif\u001b[39m\u001b[33m\"\u001b[39m, \u001b[33m\"\u001b[39m\u001b[33m.tiff\u001b[39m\u001b[33m\"\u001b[39m, \u001b[33m\"\u001b[39m\u001b[33m.bmp\u001b[39m\u001b[33m\"\u001b[39m}\n\u001b[32m      7\u001b[39m ]\n",
      "\u001b[31mModuleNotFoundError\u001b[39m: No module named 'noiseprint'"
     ]
    }
   ],
   "source": [
    "from noiseprint import compute_noiseprint, load_model\n",
    "from noiseprint.filters import normalize_map\n",
    "\n",
    "image_paths = [\n",
    "    p for p in sorted(DATA_INPUT.glob(\"*\"))\n",
    "    if p.suffix.lower() in {\".jpg\", \".jpeg\", \".png\", \".tif\", \".tiff\", \".bmp\"}\n",
    "]\n",
    "\n",
    "if not image_paths:\n",
    "    raise FileNotFoundError(\n",
    "        \"Nenhuma imagem encontrada em data/input. Adicione 2–3 arquivos antes de seguir.\"\n",
    "    )\n",
    "\n",
    "selected_paths = image_paths[:3]\n",
    "print(\"Imagens selecionadas:\")\n",
    "for path in selected_paths:\n",
    "    print(f\"- {path.name}\")\n",
    "\n",
    "def load_bgr(path: Path) -> np.ndarray:\n",
    "    img = cv2.imread(str(path), cv2.IMREAD_COLOR)\n",
    "    if img is None:\n",
    "        raise IOError(f\"Falha ao carregar {path}\")\n",
    "    return img\n",
    "\n",
    "IMAGES = [(path, load_bgr(path)) for path in selected_paths]"
   ]
  },
  {
   "cell_type": "code",
   "execution_count": 4,
   "id": "874761c3",
   "metadata": {},
   "outputs": [
    {
     "ename": "ModuleNotFoundError",
     "evalue": "No module named 'noiseprint'",
     "output_type": "error",
     "traceback": [
      "\u001b[31m---------------------------------------------------------------------------\u001b[39m",
      "\u001b[31mModuleNotFoundError\u001b[39m                       Traceback (most recent call last)",
      "\u001b[36mCell\u001b[39m\u001b[36m \u001b[39m\u001b[32mIn[4]\u001b[39m\u001b[32m, line 1\u001b[39m\n\u001b[32m----> \u001b[39m\u001b[32m1\u001b[39m \u001b[38;5;28;01mfrom\u001b[39;00m\u001b[38;5;250m \u001b[39m\u001b[34;01mnoiseprint\u001b[39;00m\u001b[34;01m.\u001b[39;00m\u001b[34;01mvisualize\u001b[39;00m\u001b[38;5;250m \u001b[39m\u001b[38;5;28;01mimport\u001b[39;00m save_heatmap, save_overlay\n\u001b[32m      2\u001b[39m \u001b[38;5;28;01mfrom\u001b[39;00m\u001b[38;5;250m \u001b[39m\u001b[34;01mmatplotlib\u001b[39;00m\u001b[38;5;250m \u001b[39m\u001b[38;5;28;01mimport\u001b[39;00m cm\n\u001b[32m      4\u001b[39m model = load_model()\n",
      "\u001b[31mModuleNotFoundError\u001b[39m: No module named 'noiseprint'"
     ]
    }
   ],
   "source": [
    "from noiseprint.visualize import save_heatmap, save_overlay\n",
    "from matplotlib import cm\n",
    "\n",
    "model = load_model()\n",
    "if model is not None:\n",
    "    model = model.to(device)\n",
    "    print(\"Modelo carregado e movido para\", device)\n",
    "else:\n",
    "    print(\"Sem pesos: usando residual fallback.\")\n",
    "\n",
    "results = []\n",
    "for path, img_bgr in IMAGES:\n",
    "    fallback_map = compute_noiseprint(img_bgr, model=None)\n",
    "    model_map = compute_noiseprint(img_bgr, model=model) if model is not None else None\n",
    "\n",
    "    def make_overlay(image_bgr: np.ndarray, residual: np.ndarray, alpha: float = 0.6):\n",
    "        heatmap = cm.get_cmap(\"jet\")(normalize_map(residual))[..., :3]\n",
    "        heatmap_rgb = (heatmap * 255).astype(np.uint8)\n",
    "        heatmap_bgr = cv2.cvtColor(heatmap_rgb, cv2.COLOR_RGB2BGR)\n",
    "        if heatmap_bgr.shape[:2] != image_bgr.shape[:2]:\n",
    "            heatmap_bgr = cv2.resize(heatmap_bgr, (image_bgr.shape[1], image_bgr.shape[0]))\n",
    "        overlay = cv2.addWeighted(\n",
    "            image_bgr.astype(np.float32), 1.0 - alpha,\n",
    "            heatmap_bgr.astype(np.float32), alpha, 0\n",
    "        )\n",
    "        return overlay.astype(np.uint8), heatmap_rgb\n",
    "\n",
    "    fallback_overlay_bgr, fallback_heatmap_rgb = make_overlay(img_bgr, fallback_map)\n",
    "    model_overlay_bgr = None\n",
    "    model_heatmap_rgb = None\n",
    "    if model_map is not None:\n",
    "        model_overlay_bgr, model_heatmap_rgb = make_overlay(img_bgr, model_map)\n",
    "\n",
    "    results.append(\n",
    "        {\n",
    "            \"path\": path,\n",
    "            \"image_bgr\": img_bgr,\n",
    "            \"fallback_map\": fallback_map,\n",
    "            \"fallback_overlay_bgr\": fallback_overlay_bgr,\n",
    "            \"fallback_heatmap_rgb\": fallback_heatmap_rgb,\n",
    "            \"model_map\": model_map,\n",
    "            \"model_overlay_bgr\": model_overlay_bgr,\n",
    "            \"model_heatmap_rgb\": model_heatmap_rgb,\n",
    "        }\n",
    "    )\n",
    "\n",
    "for item in results:\n",
    "    img_rgb = cv2.cvtColor(item[\"image_bgr\"], cv2.COLOR_BGR2RGB)\n",
    "    fallback_overlay_rgb = cv2.cvtColor(item[\"fallback_overlay_bgr\"], cv2.COLOR_BGR2RGB)\n",
    "\n",
    "    columns = 3 if item[\"model_map\"] is not None else 2\n",
    "    fig, axes = plt.subplots(1, columns, figsize=(4 * columns, 4))\n",
    "    axes = np.atleast_1d(axes)\n",
    "\n",
    "    axes[0].imshow(img_rgb)\n",
    "    axes[0].set_title(f\"Original: {item['path'].name}\")\n",
    "    axes[0].axis('off')\n",
    "\n",
    "    axes[1].imshow(item[\"fallback_heatmap_rgb\"])\n",
    "    axes[1].set_title(\"Heatmap fallback\")\n",
    "    axes[1].axis('off')\n",
    "\n",
    "    if item[\"model_map\"] is not None and columns == 3:\n",
    "        axes[2].imshow(item[\"model_heatmap_rgb\"])\n",
    "        axes[2].set_title(\"Heatmap modelo\")\n",
    "        axes[2].axis('off')\n",
    "\n",
    "    plt.tight_layout()\n",
    "    plt.show()\n",
    "\n",
    "    plt.figure(figsize=(4 * columns, 4))\n",
    "    plt.subplot(1, columns, 1)\n",
    "    plt.imshow(img_rgb)\n",
    "    plt.title(\"Original\")\n",
    "    plt.axis('off')\n",
    "\n",
    "    plt.subplot(1, columns, 2)\n",
    "    plt.imshow(fallback_overlay_rgb)\n",
    "    plt.title(\"Overlay fallback\")\n",
    "    plt.axis('off')\n",
    "\n",
    "    if item[\"model_overlay_bgr\"] is not None and columns == 3:\n",
    "        overlay_rgb = cv2.cvtColor(item[\"model_overlay_bgr\"], cv2.COLOR_BGR2RGB)\n",
    "        plt.subplot(1, columns, 3)\n",
    "        plt.imshow(overlay_rgb)\n",
    "        plt.title(\"Overlay modelo\")\n",
    "        plt.axis('off')\n",
    "\n",
    "    plt.tight_layout()\n",
    "    plt.show()"
   ]
  },
  {
   "cell_type": "markdown",
   "id": "23083a7d",
   "metadata": {},
   "source": [
    "### Observações rápidas\n",
    "- Regiões com alto contraste (bordas, texturas) costumam gerar respostas fortes no fallback, pois o residual é basicamente um filtro passa-alta.\n",
    "- Quando pesos reais são usados, espera-se redução de falso-positivos em detalhes finos e maior consistência entre imagens da mesma câmera.\n",
    "- A abordagem manual é útil para prototipagem, mas não captura o fingerprint específico de cada sensor."
   ]
  },
  {
   "cell_type": "code",
   "execution_count": null,
   "id": "f2e2b622",
   "metadata": {},
   "outputs": [],
   "source": [
    "for item in results:\n",
    "    base = item[\"path\"].stem\n",
    "    heatmap_path = DATA_OUTPUT / f\"{base}_heatmap_demo.png\"\n",
    "    overlay_path = DATA_OUTPUT / f\"{base}_overlay_demo.png\"\n",
    "    save_heatmap(item[\"fallback_map\"], str(heatmap_path))\n",
    "    save_overlay(item[\"image_bgr\"], item[\"fallback_map\"], str(overlay_path))\n",
    "    if item[\"model_map\"] is not None:\n",
    "        heatmap_model_path = DATA_OUTPUT / f\"{base}_heatmap_model.png\"\n",
    "        overlay_model_path = DATA_OUTPUT / f\"{base}_overlay_model.png\"\n",
    "        save_heatmap(item[\"model_map\"], str(heatmap_model_path))\n",
    "        save_overlay(item[\"image_bgr\"], item[\"model_map\"], str(overlay_model_path))\n",
    "\n",
    "print(\"Resultados exportados para\", DATA_OUTPUT)"
   ]
  }
 ],
 "metadata": {
  "kernelspec": {
   "display_name": "Python 3",
   "language": "python",
   "name": "python3"
  },
  "language_info": {
   "codemirror_mode": {
    "name": "ipython",
    "version": 3
   },
   "file_extension": ".py",
   "mimetype": "text/x-python",
   "name": "python",
   "nbconvert_exporter": "python",
   "pygments_lexer": "ipython3",
   "version": "3.13.9"
  }
 },
 "nbformat": 4,
 "nbformat_minor": 5
}
